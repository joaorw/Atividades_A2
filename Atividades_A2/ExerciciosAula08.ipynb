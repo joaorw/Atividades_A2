{
 "cells": [
  {
   "cell_type": "markdown",
   "metadata": {},
   "source": [
    "1.Faça um Programa que peça o raio de um círculo, calcule e mostre sua área."
   ]
  },
  {
   "cell_type": "code",
   "execution_count": 37,
   "metadata": {},
   "outputs": [
    {
     "name": "stdout",
     "output_type": "stream",
     "text": [
      "Digite o valor do raio: 1.5\n",
      "A área do circulo é 7.07\n"
     ]
    }
   ],
   "source": [
    "pi = 3.14\n",
    "raio = float(input(\"Digite o valor do raio: \"))\n",
    "area = float (pi*(raio**2))\n",
    "print (\"A área do circulo é %.2f\" % float(area))"
   ]
  },
  {
   "cell_type": "markdown",
   "metadata": {},
   "source": [
    "2.Faça um Programa que calcule a área de um quadrado, em seguida mostre o dobro desta área para o usuário."
   ]
  },
  {
   "cell_type": "code",
   "execution_count": 38,
   "metadata": {},
   "outputs": [
    {
     "name": "stdout",
     "output_type": "stream",
     "text": [
      "Digite a base do quadrado: 4\n",
      "A área do quadrado é 16.00\n",
      "O dobro da área é 32.00\n"
     ]
    }
   ],
   "source": [
    "lado = float(input(\"Digite a base do quadrado: \"))\n",
    "area = float (lado**2)\n",
    "dobro = float (area*2)\n",
    "print (\"A área do quadrado é %.2f\" % float(area))\n",
    "print (\"O dobro da área é %.2f\" % float(dobro))"
   ]
  },
  {
   "cell_type": "markdown",
   "metadata": {},
   "source": [
    "3.Faça um Programa que pergunte quanto você ganha por hora e o número de horas trabalhadas no mês. Calcule e mostre o total do seu salário no referido mês."
   ]
  },
  {
   "cell_type": "code",
   "execution_count": 39,
   "metadata": {},
   "outputs": [
    {
     "name": "stdout",
     "output_type": "stream",
     "text": [
      "Digite o valor que recebe por hora: 10\n",
      "Digite o número de horas trabalhadas no mês: 80\n",
      "O total do sálario do mês é R$ 800.00\n"
     ]
    }
   ],
   "source": [
    "valor = float(input(\"Digite o valor que recebe por hora: \"))\n",
    "hora = float(input(\"Digite o número de horas trabalhadas no mês: \"))\n",
    "total = float(hora*valor)\n",
    "print (\"O total do sálario do mês é R$ %.2f\" % float(total))"
   ]
  },
  {
   "cell_type": "markdown",
   "metadata": {},
   "source": [
    "4.Faça um Programa que peça a temperatura em graus Farenheit, transforme e mostre a temperatura em graus Celsius."
   ]
  },
  {
   "cell_type": "code",
   "execution_count": 40,
   "metadata": {},
   "outputs": [
    {
     "name": "stdout",
     "output_type": "stream",
     "text": [
      "Digite a temperatura em graus Farenheit: 70\n",
      "A temperatura em graus Celsius é 21.11\n"
     ]
    }
   ],
   "source": [
    "F = float(input(\"Digite a temperatura em graus Farenheit: \"))\n",
    "C = (5 * (F-32) / 9)\n",
    "print (\"A temperatura em graus Celsius é %.2f\" % float(C))\n"
   ]
  },
  {
   "cell_type": "markdown",
   "metadata": {},
   "source": [
    "5.Faça um Programa que peça a temperatura em graus Celsius, transforme e mostre em graus Farenheit."
   ]
  },
  {
   "cell_type": "code",
   "execution_count": 41,
   "metadata": {},
   "outputs": [
    {
     "name": "stdout",
     "output_type": "stream",
     "text": [
      "Digite a temperatura em graus Celsius: 35\n",
      "A temperatura em graus Farenheit é 95.00\n"
     ]
    }
   ],
   "source": [
    "C = float(input(\"Digite a temperatura em graus Celsius: \"))\n",
    "F = ((C * 1.8) + 32)\n",
    "print (\"A temperatura em graus Farenheit é %.2f\" % float(F))"
   ]
  },
  {
   "cell_type": "markdown",
   "metadata": {},
   "source": [
    "6.Faça um Programa que peça 2 números inteiros e um número real. Calcule e mostre:\n",
    "- o produto do dobro do primeiro com metade do segundo.\n",
    "- a soma do triplo do primeiro com o terceiro.\n",
    "- o terceiro elevado ao cubo."
   ]
  },
  {
   "cell_type": "code",
   "execution_count": 42,
   "metadata": {},
   "outputs": [
    {
     "name": "stdout",
     "output_type": "stream",
     "text": [
      "Digite um número inteiro:  10\n",
      "Digite outro número inteiro:  5\n",
      "Digite um número real: 1.5\n",
      "O produto do dobro do primeiro com metade do segundo é 50\n",
      "A soma do triplo do primeiro com o terceiro é 31.50\n",
      "O terceiro elevado ao cubo é 3.38\n"
     ]
    }
   ],
   "source": [
    "num1 = int(input(\"Digite um número inteiro:  \"))\n",
    "num2 = int(input(\"Digite outro número inteiro:  \"))\n",
    "numR = float(input(\"Digite um número real: \"))\n",
    "res1 = (num1 * 2 * (num2 / 2))\n",
    "print (\"O produto do dobro do primeiro com metade do segundo é %d\" % int(res1))\n",
    "res2 = num1 * 3 + numR\n",
    "print (\"A soma do triplo do primeiro com o terceiro é %.2f\" % float (res2))\n",
    "res3 = numR**3\n",
    "print (\"O terceiro elevado ao cubo é %.2f\" % float (res3))"
   ]
  },
  {
   "cell_type": "markdown",
   "metadata": {},
   "source": [
    "7.João Papo-de-Pescador, homem de bem, comprou um microcomputador para controlar o rendimento diário de seu trabalho. Toda vez que ele traz um peso de peixes maior que o estabelecido pelo regulamento de pesca do estado de São Paulo (50 quilos) deve pagar uma multa de R$ 4,00 por quilo excedente. João precisa que você faça um programa que leia a variável peso (peso de peixes) e verifique se há excesso. Se houver, gravar na variável excesso e na variável multa o valor da multa que João deverá pagar. Caso contrário mostrar tais variáveis com o conteúdo ZERO."
   ]
  },
  {
   "cell_type": "code",
   "execution_count": 47,
   "metadata": {},
   "outputs": [
    {
     "name": "stdout",
     "output_type": "stream",
     "text": [
      "Digite o peso da pesca: 51\n",
      "A pesca teve excesso de 1 quilo(s) e multa no valor de R$ 4.00\n"
     ]
    }
   ],
   "source": [
    "peso = float(input('Digite o peso da pesca: '))\n",
    "excesso = multa = 0\n",
    "if (peso > 50):\n",
    "    excesso = peso - 50\n",
    "    multa = excesso * 4\n",
    "print (\"A pesca teve excesso de %d quilo(s) e multa no valor de R$ %.2f\" % (excesso, multa))"
   ]
  },
  {
   "cell_type": "markdown",
   "metadata": {},
   "source": [
    "8.Faça um Programa que pergunte quanto você ganha por hora e o número de horas trabalhadas no mês. Calcule e mostre o total do seu salário no referido mês, sabendo-se que são descontados 11% para o Imposto de Renda, 8% para o INSS e 5% para o sindicato, faça um programa que nos dê:\n",
    "- salário bruto.\n",
    "- quanto pagou ao INSS.\n",
    "- quanto pagou ao sindicato.\n",
    "- o salário líquido.\n",
    "- calcule os descontos e o salário líquido."
   ]
  },
  {
   "cell_type": "code",
   "execution_count": 58,
   "metadata": {
    "scrolled": true
   },
   "outputs": [
    {
     "name": "stdout",
     "output_type": "stream",
     "text": [
      "Quanto você guanha por hora: 50\n",
      "Quantas horas você trabalhou: 40\n",
      "Seu salário bruto é: R$ 2000.00\n",
      "Valor dos impostos: R$ 480.00\n",
      "Imposto de Renda: R$ 220.00\n",
      "INSS: R$ 160.00\n",
      "Sindicato: R$ 100.00\n",
      "Seu salário liquido é: R$ 1520.00\n"
     ]
    }
   ],
   "source": [
    "ganhoH = float (input(\"Quanto você guanha por hora: \"))\n",
    "horaT = float (input(\"Quantas horas você trabalhou: \"))\n",
    "\n",
    "salarioB = ganhoH * horaT\n",
    "\n",
    "impostoR = (11/100 * salarioB)\n",
    "inss = (8/100 * salarioB)\n",
    "sindicato = (5/100 * salarioB)\n",
    "\n",
    "descontos = impostoR + inss + sindicato\n",
    "salarioL = salarioB - descontos\n",
    "\n",
    "print (\"Seu salário bruto é: R$ %.2f\" % salarioB)\n",
    "print (\"Valor dos impostos: R$ %.2f\" % descontos)\n",
    "print (\"Imposto de Renda: R$ %.2f\" % impostoR)\n",
    "print (\"INSS: R$ %.2f\" % inss)\n",
    "print (\"Sindicato: R$ %.2f\" % sindicato)\n",
    "print (\"Seu salário liquido é: R$ %.2f\" % salarioL)"
   ]
  },
  {
   "cell_type": "markdown",
   "metadata": {},
   "source": [
    "9.Faça um programa que leia 2 strings e informe o conteúdo delas seguido do seu comprimento. Informe também se as duas strings\n",
    "possuem o mesmo comprimento e são iguais ou diferentes no conteúdo."
   ]
  },
  {
   "cell_type": "code",
   "execution_count": 2,
   "metadata": {},
   "outputs": [
    {
     "name": "stdout",
     "output_type": "stream",
     "text": [
      "Tamanho de String 1: 16 caracteres\n",
      "Tamanho de Stringn2: 18 caracteres\n",
      "As duas strings são de tamanhos diferentes\n",
      "As duas strings possuem conteúdo diferente\n"
     ]
    }
   ],
   "source": [
    "s1 = \"Brasil Hexa 2018\"\n",
    "s2 = \"Brasil! Hexa 2018!\"\n",
    "\n",
    "print(\"Tamanho de String 1: %s caracteres\"  %len(s1))\n",
    "print(\"Tamanho de Stringn2: %s caracteres\" %len(s2))\n",
    "\n",
    "if len(s1) == len(s2):\n",
    "    print(\"As duas strings tem tamanhos iguais\")\n",
    "else:\n",
    "    print(\"As duas strings são de tamanhos diferentes\")\n",
    "if s1.lower() == s2.lower():\n",
    "    print(\"As duas strings possuem o mesmo conteúdo\")\n",
    "else: \n",
    "    print(\"As duas strings possuem conteúdo diferente\")"
   ]
  },
  {
   "cell_type": "markdown",
   "metadata": {},
   "source": [
    "10.Faça um programa que permita ao usuário digitar o seu nome e em seguida mostre o nome do usuário de trás para frente utilizando somente letras maiúsculas."
   ]
  },
  {
   "cell_type": "code",
   "execution_count": 6,
   "metadata": {},
   "outputs": [
    {
     "name": "stdout",
     "output_type": "stream",
     "text": [
      "Digite seu nome: Anderson\n",
      "NOSREDNA\n"
     ]
    }
   ],
   "source": [
    "nome = \"\"\n",
    "inverte = \"\" \n",
    "\n",
    "nome = input(\"Digite seu nome: \")\n",
    "\n",
    "for letra in reversed(nome):\n",
    "    inverte+=letra\n",
    "print(inverte.upper())"
   ]
  },
  {
   "cell_type": "markdown",
   "metadata": {},
   "source": [
    "11.Faça um programa que solicite a data de nascimento (dd/mm/aaaa) do usuário e imprima a data com o nome do mês por extenso."
   ]
  },
  {
   "cell_type": "code",
   "execution_count": 22,
   "metadata": {},
   "outputs": [
    {
     "name": "stdout",
     "output_type": "stream",
     "text": [
      "Informe o dia de nascimento: 11\n",
      "Informe o mes de nascimento: 11\n",
      "Informe o ano de nascimento: 1994\n",
      "Data de nascimento: 11/11/1994\n",
      "Você nasceu em 11 de Novembro de 1994\n"
     ]
    }
   ],
   "source": [
    "dia = int(input(\"Informe o dia de nascimento: \"))\n",
    "mes = int(input(\"Informe o mes de nascimento: \"))\n",
    "ano = int(input(\"Informe o ano de nascimento: \"))\n",
    "m = \"Janeiro Fevereiro Março Abril Maio Junho Julho Agosto Setembro Outubro Novembro Dezembro\"\n",
    "m2 = m.split()\n",
    "\n",
    "print(\"Data de nascimento: %i/%i/%i\"%(dia,mes,ano))\n",
    "print(\"Você nasceu em\",dia,\"de\",m2[mes-1],\"de\",ano)"
   ]
  },
  {
   "cell_type": "markdown",
   "metadata": {},
   "source": [
    "12.Leet é uma forma de se escrever o alfabeto latino usando outros símbolos em lugar das letras, como números por exemplo. A própria palavra leet admite muitas variações, como l33t ou 1337. O uso do leet reflete uma subcultura relacionada ao\n",
    "mundo dos jogos de computador e internet, sendo muito usada para confundir os iniciantes e afirmar-se como parte de um grupo. Pesquise sobre as principais formas de traduzir as letras."
   ]
  },
  {
   "cell_type": "code",
   "execution_count": 7,
   "metadata": {},
   "outputs": [
    {
     "name": "stdout",
     "output_type": "stream",
     "text": [
      "Digite sua mensagem: Mensagem na linguagem Leet Speak\n",
      "Mensagem na linguagem Leet Speak:  m3n5463m n4 1|n6|_|463m 1337 5p34k\n",
      "Mensagem traduzida: Mensagem na linguagem Leet Speak\n"
     ]
    }
   ],
   "source": [
    "msg = input(\"Digite sua mensagem: \")\n",
    "lermsg = msg.lower()\n",
    "\n",
    "lermsg = lermsg.replace('a', str(4))\n",
    "lermsg = lermsg.replace('e', str(3))\n",
    "lermsg = lermsg.replace('o', str(0))\n",
    "lermsg = lermsg.replace('g', str(6))\n",
    "lermsg = lermsg.replace('i', '|')\n",
    "lermsg = lermsg.replace('j', str(9))\n",
    "lermsg = lermsg.replace('l', str(1))\n",
    "lermsg = lermsg.replace('s', str(5))\n",
    "lermsg = lermsg.replace('t', str(7))\n",
    "lermsg = lermsg.replace('u', '|_|')\n",
    "lermsg = lermsg.replace('z', str(2))\n",
    "\n",
    "print (\"Mensagem na linguagem Leet Speak: \", lermsg)\n",
    "print (\"Mensagem traduzida:\", msg)"
   ]
  },
  {
   "cell_type": "markdown",
   "metadata": {},
   "source": [
    "13.Crie um programa que recebe uma lista de números e\n",
    "- retorne o maior elemento\n",
    "- retorne a soma dos elementos\n",
    "- retorne o número de ocorrências do primeiro elemento da lista\n",
    "- retorne a média dos elementos\n",
    "- retorne o valor mais próximo da média dos elementos\n",
    "- retorne a soma dos elementos com valor negativo\n",
    "- retorne a quantidade de vizinhos iguais"
   ]
  },
  {
   "cell_type": "code",
   "execution_count": 10,
   "metadata": {},
   "outputs": [
    {
     "name": "stdout",
     "output_type": "stream",
     "text": [
      "Maior: 5 Soma: 15 Primeiro: 1 Média: 3.0 Próximo 1 Negativo: -3.0\n",
      "Maior: 5 Soma: 15 Primeiro: 1 Média: 3.0 Próximo 2 Negativo: -3.0\n",
      "Maior: 5 Soma: 15 Primeiro: 1 Média: 3.0 Próximo 3 Negativo: -3.0\n"
     ]
    }
   ],
   "source": [
    "num = [1,2,3,4,5]\n",
    "soma = 0\n",
    "\n",
    "for n in num:\n",
    "    \n",
    "    soma = sum(num)\n",
    "    maior = max(num)\n",
    "    p = num[0]\n",
    "    media = soma/len(num)\n",
    "\n",
    "    if media >= n:\n",
    "        prox = n\n",
    "        \n",
    "        print(\"Maior: {} Soma: {} Primeiro: {} Média: {} Próximo {} Negativo: -{}\".format(maior, soma, p, media, prox, media))"
   ]
  },
  {
   "cell_type": "markdown",
   "metadata": {},
   "source": [
    "14.Faça um programa que receba duas listas e retorne True se são iguais ou False caso contrario. Duas listas são iguais se possuem os mesmos valores e na mesma ordem."
   ]
  },
  {
   "cell_type": "code",
   "execution_count": 17,
   "metadata": {},
   "outputs": [
    {
     "name": "stdout",
     "output_type": "stream",
     "text": [
      "Digite os valores da primeira lista, separando os itens por virgulas: 1,2,3\n",
      "Digite os valores da segunda lista, separando os itens por virgulas: 1,2,3\n"
     ]
    },
    {
     "data": {
      "text/plain": [
       "True"
      ]
     },
     "execution_count": 17,
     "metadata": {},
     "output_type": "execute_result"
    }
   ],
   "source": [
    "lista1 = [input(\"Digite os valores da primeira lista, separando os itens por virgulas: \")]\n",
    "lista2 = [input(\"Digite os valores da segunda lista, separando os itens por virgulas: \")]\n",
    "lista1[:len(lista1)] == lista2[:len(lista_2)]"
   ]
  },
  {
   "cell_type": "markdown",
   "metadata": {},
   "source": [
    "15.Faça um programa que receba duas listas e retorne True se têm os mesmos elementos ou False caso contrário Duas listas possuem os mesmos elementos quando são compostas pelos mesmos valores, mas não obrigatoriamente na mesma ordem."
   ]
  },
  {
   "cell_type": "code",
   "execution_count": 22,
   "metadata": {},
   "outputs": [
    {
     "data": {
      "text/plain": [
       "True"
      ]
     },
     "execution_count": 22,
     "metadata": {},
     "output_type": "execute_result"
    }
   ],
   "source": [
    "lista1 = [1,2,3,4]\n",
    "lista2 = [4,3,2,1]\n",
    "set(lista1) == set(lista2)"
   ]
  },
  {
   "cell_type": "markdown",
   "metadata": {},
   "source": [
    "16.Faça um programa que percorre uma lista com o seguinte formato: [['Brasil', 'Italia', [10, 9]], ['Brasil', 'Espanha', [5, 7]], ['Italia', 'Espanha', [7,8]]]. Essa lista indica o número de faltas que cada time fez em cada jogo. Na lista acima, no jogo entre Brasil e Itália, o Brasil fez 10 faltas e a Itália fez 9. O programa deve imprimir na tela:\n",
    "- total de faltas do campeonato\n",
    "- time que fez mais faltas\n",
    "- time que fez menos faltas"
   ]
  },
  {
   "cell_type": "code",
   "execution_count": 3,
   "metadata": {},
   "outputs": [
    {
     "name": "stdout",
     "output_type": "stream",
     "text": [
      "Total de faltas do campeonato: 45 \n",
      "Maior: 16 \n",
      "Menor: 14\n"
     ]
    }
   ],
   "source": [
    "falta = {'Brasil':15,'Italia':16,'Espanha':14}\n",
    "soma =sum(falta.values())\n",
    "maior = max(falta.values())\n",
    "menor = min(falta.values())\n",
    "print(\"Total de faltas do campeonato: {} \\nMaior: {} \\nMenor: {}\".format(soma,maior,menor))"
   ]
  },
  {
   "cell_type": "markdown",
   "metadata": {},
   "source": [
    "17.Escreva um programa que conta a quantidade de vogais em uma string e armazena tal quantidade em um dicionário, onde a chave é a vogal considerada"
   ]
  },
  {
   "cell_type": "code",
   "execution_count": 2,
   "metadata": {},
   "outputs": [
    {
     "name": "stdout",
     "output_type": "stream",
     "text": [
      "Digite uma palavra: Funcionou\n",
      "A palavra informada possui: {'I': 1, 'O': 2, 'U': 2}\n"
     ]
    }
   ],
   "source": [
    "palavra = input(\"Digite uma palavra: \")\n",
    "dic = {}\n",
    "vogais = palavra.upper()\n",
    "if (\"A\" in vogais):\n",
    "    dic['A']=vogais.count(\"A\")\n",
    "if (\"E\" in vogais):\n",
    "    dic['E']=vogais.count(\"E\")\n",
    "if (\"I\" in vogais):\n",
    "    dic['I']=vogais.count(\"I\")\n",
    "if (\"O\" in vogais):\n",
    "    dic['O']=vogais.count(\"O\")\n",
    "if (\"U\" in vogais):\n",
    "    dic['U']=vogais.count(\"U\")\n",
    "    \n",
    "print(\"A palavra informada possui: \" + str (dic)) "
   ]
  },
  {
   "cell_type": "markdown",
   "metadata": {},
   "source": [
    "18.Escreva um programa que lê duas notas de vários alunos e armazena tais notas em um dicionário, onde a chave é o nome do aluno. A entrada de dados deve terminar quando for lida uma string vazia como nome. Escreva uma função que retorna a média do aluno, dado seu nome."
   ]
  },
  {
   "cell_type": "code",
   "execution_count": 39,
   "metadata": {},
   "outputs": [
    {
     "name": "stdout",
     "output_type": "stream",
     "text": [
      "Digite o nome do aluno: Joao\n",
      "A média do aluno é 8.50\n"
     ]
    }
   ],
   "source": [
    "notas = {\"Joao\":[9.0,8.0], \"Maria\":[10.0,7.5]}\n",
    "aluno = notas.get(input(\"Digite o nome do aluno: \"))\n",
    "nota = float((aluno[0] + aluno[1])/2)\n",
    "\n",
    "print(\"A média do aluno é %.2f\" % nota)"
   ]
  },
  {
   "cell_type": "markdown",
   "metadata": {},
   "source": [
    "19.Uma pista de Kart permite 10 voltas para cada um de 6 corredores. Escreva um programa que leia todos os tempos em segundos e os guarde em um dicionário, onde a chave é o nome do corredor. Ao final diga de quem foi a melhor volta da prova e em que volta; e ainda a classificação final em ordem (1º o campeão). O campeão é o que tem a menor média de tempos."
   ]
  },
  {
   "cell_type": "code",
   "execution_count": 41,
   "metadata": {},
   "outputs": [
    {
     "name": "stdout",
     "output_type": "stream",
     "text": [
      "Digite o nome do piloto: Massa\n",
      "Digite o tempo do piloto: 20\n",
      "Campeão: ['Massa', 20.0]\n"
     ]
    }
   ],
   "source": [
    "nome = input(\"Digite o nome do piloto: \")\n",
    "kart = [nome]\n",
    "tempo = float(input(\"Digite o tempo do piloto: \"))\n",
    "kart.append(tempo)\n",
    "\n",
    "print(\"Campeão: {}\".format(kart))"
   ]
  },
  {
   "cell_type": "markdown",
   "metadata": {},
   "source": [
    "20.Escreva um programa para armazenar uma agenda de telefones em um dicionário. Cada pessoa pode ter um ou mais telefones e a chave do dicionário é o nome da pessoa. Seu programa deve ter as seguintes funções:\n",
    "\n",
    "- incluirNovoNome – essa função acrescenta um novo nome na agenda, com um ou mais telefones. Ela deve receber como argumentos o nome e os telefones.\n",
    "- incluirTelefone – essa função acrescenta um telefone em um nome existente na agenda. Caso o nome não exista na agenda, você̂ deve perguntar se a pessoa deseja inclui-lo. Caso a resposta seja afirmativa, use a função anterior para incluir o novo nome.\n",
    "- excluirTelefone – essa função exclui um telefone de uma pessoa que já está na agenda. Se a pessoa tiver apenas um telefone, ela deve ser excluída da agenda.\n",
    "- excluirNome – essa função exclui uma pessoa da agenda.\n",
    "- consultarTelefone – essa função retorna os telefones de uma pessoa na agenda."
   ]
  },
  {
   "cell_type": "code",
   "execution_count": 40,
   "metadata": {},
   "outputs": [
    {
     "name": "stdout",
     "output_type": "stream",
     "text": [
      "Remova um contato: Cida\n",
      "{'Anderson': 924710000, 'Marcio': 978945645}\n"
     ]
    }
   ],
   "source": [
    "lista = {'Anderson':924710000,'Marcio':978945645,'Cida': 975451547}\n",
    "nome = input(\"Remova um contato: \")\n",
    "lista.pop(nome)\n",
    "\n",
    "print(lista)"
   ]
  },
  {
   "cell_type": "markdown",
   "metadata": {},
   "source": [
    "21.Faça um programa que leia um arquivo texto contendo uma lista de endereços IP e gere um outro arquivo, contendo um relatório dos endereços IP válidos e inválidos."
   ]
  },
  {
   "cell_type": "code",
   "execution_count": 1,
   "metadata": {},
   "outputs": [
    {
     "name": "stdout",
     "output_type": "stream",
     "text": [
      "Overwriting file.txt\n"
     ]
    }
   ],
   "source": [
    "%%writefile file.txt\n",
    "file.write('Válidos 200.135.80.9 192.168.1.1 8.35.67.74 1.2.3.4')\n",
    "file.write('Inválidos 257.32.4.5 85.345.1.2 9.8.234.5 192.168.0.256')\n",
    "print(file.read())"
   ]
  },
  {
   "cell_type": "markdown",
   "metadata": {},
   "source": [
    "22.A ACME Inc., uma empresa de 500 funcionários, está tendo problemas de espaço em disco no seu servidor de arquivos. Para tentar resolver este problema, o Administrador de Rede precisa saber qual o espaço ocupado pelos usuários, e identificar os usuários com maior espaço ocupado. Através de um programa, baixado da Internet, ele conseguiu gerar o seguinte arquivo, chamado \"usuarios.txt\":"
   ]
  },
  {
   "cell_type": "code",
   "execution_count": 3,
   "metadata": {},
   "outputs": [
    {
     "name": "stdout",
     "output_type": "stream",
     "text": [
      "Overwriting relatório.txt\n"
     ]
    }
   ],
   "source": [
    "%%writefile relatório.txt\n",
    "ACME Inc. Uso do espaço em disco pelos usuários\n",
    "--------------------------------------------------------------\n",
    "Nr. Usuário Espaço utilizado % do uso\n",
    "1 alexandre 434,99 MB 16,85%\n",
    "2 anderson 1187,99 MB 46,02%\n",
    "3 antonio 117,73 MB 4,56%\n",
    "4 carlos 87,03 MB 3,37%\n",
    "5 cesar 0,94 MB 0,04%\n",
    "6 rosemary 752,88 MB 29,16%\n",
    "Espaço total ocupado: 2581,57 MB\n",
    "Espaço médio ocupado: 430,26 MB\n",
    "    \n",
    "print(file.read())"
   ]
  },
  {
   "cell_type": "code",
   "execution_count": null,
   "metadata": {},
   "outputs": [],
   "source": []
  }
 ],
 "metadata": {
  "kernelspec": {
   "display_name": "Python 3",
   "language": "python",
   "name": "python3"
  },
  "language_info": {
   "codemirror_mode": {
    "name": "ipython",
    "version": 3
   },
   "file_extension": ".py",
   "mimetype": "text/x-python",
   "name": "python",
   "nbconvert_exporter": "python",
   "pygments_lexer": "ipython3",
   "version": "3.6.4"
  }
 },
 "nbformat": 4,
 "nbformat_minor": 2
}
