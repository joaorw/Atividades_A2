{
 "cells": [
  {
   "cell_type": "markdown",
   "metadata": {},
   "source": [
    "1.Faça um Programa que peça o raio de um círculo, calcule e mostre sua área."
   ]
  },
  {
   "cell_type": "code",
   "execution_count": 37,
   "metadata": {},
   "outputs": [
    {
     "name": "stdout",
     "output_type": "stream",
     "text": [
      "Digite o valor do raio: 1.5\n",
      "A área do circulo é 7.07\n"
     ]
    }
   ],
   "source": [
    "pi = 3.14\n",
    "raio = float(input(\"Digite o valor do raio: \"))\n",
    "area = float (pi*(raio**2))\n",
    "print (\"A área do circulo é %.2f\" % float(area))"
   ]
  },
  {
   "cell_type": "markdown",
   "metadata": {},
   "source": [
    "2.Faça um Programa que calcule a área de um quadrado, em seguida mostre o dobro desta área para o usuário."
   ]
  },
  {
   "cell_type": "code",
   "execution_count": 38,
   "metadata": {},
   "outputs": [
    {
     "name": "stdout",
     "output_type": "stream",
     "text": [
      "Digite a base do quadrado: 4\n",
      "A área do quadrado é 16.00\n",
      "O dobro da área é 32.00\n"
     ]
    }
   ],
   "source": [
    "lado = float(input(\"Digite a base do quadrado: \"))\n",
    "area = float (lado**2)\n",
    "dobro = float (area*2)\n",
    "print (\"A área do quadrado é %.2f\" % float(area))\n",
    "print (\"O dobro da área é %.2f\" % float(dobro))"
   ]
  },
  {
   "cell_type": "markdown",
   "metadata": {},
   "source": [
    "3.Faça um Programa que pergunte quanto você ganha por hora e o número de horas trabalhadas no mês. Calcule e mostre o total do seu salário no referido mês."
   ]
  },
  {
   "cell_type": "code",
   "execution_count": 39,
   "metadata": {},
   "outputs": [
    {
     "name": "stdout",
     "output_type": "stream",
     "text": [
      "Digite o valor que recebe por hora: 10\n",
      "Digite o número de horas trabalhadas no mês: 80\n",
      "O total do sálario do mês é R$ 800.00\n"
     ]
    }
   ],
   "source": [
    "valor = float(input(\"Digite o valor que recebe por hora: \"))\n",
    "hora = float(input(\"Digite o número de horas trabalhadas no mês: \"))\n",
    "total = float(hora*valor)\n",
    "print (\"O total do sálario do mês é R$ %.2f\" % float(total))"
   ]
  },
  {
   "cell_type": "markdown",
   "metadata": {},
   "source": [
    "4.Faça um Programa que peça a temperatura em graus Farenheit, transforme e mostre a temperatura em graus Celsius."
   ]
  },
  {
   "cell_type": "code",
   "execution_count": 40,
   "metadata": {},
   "outputs": [
    {
     "name": "stdout",
     "output_type": "stream",
     "text": [
      "Digite a temperatura em graus Farenheit: 70\n",
      "A temperatura em graus Celsius é 21.11\n"
     ]
    }
   ],
   "source": [
    "F = float(input(\"Digite a temperatura em graus Farenheit: \"))\n",
    "C = (5 * (F-32) / 9)\n",
    "print (\"A temperatura em graus Celsius é %.2f\" % float(C))\n"
   ]
  },
  {
   "cell_type": "markdown",
   "metadata": {},
   "source": [
    "5.Faça um Programa que peça a temperatura em graus Celsius, transforme e mostre em graus Farenheit."
   ]
  },
  {
   "cell_type": "code",
   "execution_count": 41,
   "metadata": {},
   "outputs": [
    {
     "name": "stdout",
     "output_type": "stream",
     "text": [
      "Digite a temperatura em graus Celsius: 35\n",
      "A temperatura em graus Farenheit é 95.00\n"
     ]
    }
   ],
   "source": [
    "C = float(input(\"Digite a temperatura em graus Celsius: \"))\n",
    "F = ((C * 1.8) + 32)\n",
    "print (\"A temperatura em graus Farenheit é %.2f\" % float(F))"
   ]
  },
  {
   "cell_type": "markdown",
   "metadata": {},
   "source": [
    "6.Faça um Programa que peça 2 números inteiros e um número real. Calcule e mostre:\n",
    "- o produto do dobro do primeiro com metade do segundo.\n",
    "- a soma do triplo do primeiro com o terceiro.\n",
    "- o terceiro elevado ao cubo."
   ]
  },
  {
   "cell_type": "code",
   "execution_count": 42,
   "metadata": {},
   "outputs": [
    {
     "name": "stdout",
     "output_type": "stream",
     "text": [
      "Digite um número inteiro:  10\n",
      "Digite outro número inteiro:  5\n",
      "Digite um número real: 1.5\n",
      "O produto do dobro do primeiro com metade do segundo é 50\n",
      "A soma do triplo do primeiro com o terceiro é 31.50\n",
      "O terceiro elevado ao cubo é 3.38\n"
     ]
    }
   ],
   "source": [
    "num1 = int(input(\"Digite um número inteiro:  \"))\n",
    "num2 = int(input(\"Digite outro número inteiro:  \"))\n",
    "numR = float(input(\"Digite um número real: \"))\n",
    "res1 = (num1 * 2 * (num2 / 2))\n",
    "print (\"O produto do dobro do primeiro com metade do segundo é %d\" % int(res1))\n",
    "res2 = num1 * 3 + numR\n",
    "print (\"A soma do triplo do primeiro com o terceiro é %.2f\" % float (res2))\n",
    "res3 = numR**3\n",
    "print (\"O terceiro elevado ao cubo é %.2f\" % float (res3))"
   ]
  },
  {
   "cell_type": "markdown",
   "metadata": {},
   "source": [
    "7.João Papo-de-Pescador, homem de bem, comprou um microcomputador para controlar o rendimento diário de seu trabalho. Toda vez que ele traz um peso de peixes maior que o estabelecido pelo regulamento de pesca do estado de São Paulo (50 quilos) deve pagar uma multa de R$ 4,00 por quilo excedente. João precisa que você faça um programa que leia a variável peso (peso de peixes) e verifique se há excesso. Se houver, gravar na variável excesso e na variável multa o valor da multa que João deverá pagar. Caso contrário mostrar tais variáveis com o conteúdo ZERO."
   ]
  },
  {
   "cell_type": "code",
   "execution_count": 47,
   "metadata": {},
   "outputs": [
    {
     "name": "stdout",
     "output_type": "stream",
     "text": [
      "Digite o peso da pesca: 51\n",
      "A pesca teve excesso de 1 quilo(s) e multa no valor de R$ 4.00\n"
     ]
    }
   ],
   "source": [
    "peso = float(input('Digite o peso da pesca: '))\n",
    "excesso = multa = 0\n",
    "if (peso > 50):\n",
    "    excesso = peso - 50\n",
    "    multa = excesso * 4\n",
    "print (\"A pesca teve excesso de %d quilo(s) e multa no valor de R$ %.2f\" % (excesso, multa))"
   ]
  },
  {
   "cell_type": "markdown",
   "metadata": {},
   "source": [
    "8.Faça um Programa que pergunte quanto você ganha por hora e o número de horas trabalhadas no mês. Calcule e mostre o total do seu salário no referido mês, sabendo-se que são descontados 11% para o Imposto de Renda, 8% para o INSS e 5% para o sindicato, faça um programa que nos dê:\n",
    "- salário bruto.\n",
    "- quanto pagou ao INSS.\n",
    "- quanto pagou ao sindicato.\n",
    "- o salário líquido.\n",
    "- calcule os descontos e o salário líquido."
   ]
  },
  {
   "cell_type": "code",
   "execution_count": 58,
   "metadata": {
    "scrolled": true
   },
   "outputs": [
    {
     "name": "stdout",
     "output_type": "stream",
     "text": [
      "Quanto você guanha por hora: 50\n",
      "Quantas horas você trabalhou: 40\n",
      "Seu salário bruto é: R$ 2000.00\n",
      "Valor dos impostos: R$ 480.00\n",
      "Imposto de Renda: R$ 220.00\n",
      "INSS: R$ 160.00\n",
      "Sindicato: R$ 100.00\n",
      "Seu salário liquido é: R$ 1520.00\n"
     ]
    }
   ],
   "source": [
    "ganhoH = float (input(\"Quanto você guanha por hora: \"))\n",
    "horaT = float (input(\"Quantas horas você trabalhou: \"))\n",
    "\n",
    "salarioB = ganhoH * horaT\n",
    "\n",
    "impostoR = (11/100 * salarioB)\n",
    "inss = (8/100 * salarioB)\n",
    "sindicato = (5/100 * salarioB)\n",
    "\n",
    "descontos = impostoR + inss + sindicato\n",
    "salarioL = salarioB - descontos\n",
    "\n",
    "print (\"Seu salário bruto é: R$ %.2f\" % salarioB)\n",
    "print (\"Valor dos impostos: R$ %.2f\" % descontos)\n",
    "print (\"Imposto de Renda: R$ %.2f\" % impostoR)\n",
    "print (\"INSS: R$ %.2f\" % inss)\n",
    "print (\"Sindicato: R$ %.2f\" % sindicato)\n",
    "print (\"Seu salário liquido é: R$ %.2f\" % salarioL)"
   ]
  },
  {
   "cell_type": "markdown",
   "metadata": {},
   "source": [
    "9.Faça um programa que leia 2 strings e informe o conteúdo delas seguido do seu comprimento. Informe também se as duas strings\n",
    "possuem o mesmo comprimento e são iguais ou diferentes no conteúdo."
   ]
  },
  {
   "cell_type": "code",
   "execution_count": 7,
   "metadata": {},
   "outputs": [
    {
     "name": "stdout",
     "output_type": "stream",
     "text": [
      "Tamanho de String 1: 16 caracteres\n",
      "Tamanho de Stringn2: 18 caracteres\n",
      "As duas strings são de tamanhos diferentes\n",
      "As duas strings possuem conteúdo diferente\n"
     ]
    }
   ],
   "source": [
    "s1 = \"Brasil Hexa 2018\"\n",
    "s2 = \"Brasil! Hexa 2018!\"\n",
    "\n",
    "print(\"Tamanho de String 1: %d caracteres\"  %len(s1))\n",
    "print(\"Tamanho de Stringn2: %d caracteres\" %len(s2))\n",
    "\n",
    "if len(s1) == len(s2):\n",
    "    print(\"As duas strings tem tamanhos iguais\")\n",
    "else:\n",
    "    print(\"As duas strings são de tamanhos diferentes\")\n",
    "if s1.lower() == s2.lower():\n",
    "    print(\"As duas strings possuem o mesmo conteúdo\")\n",
    "else: \n",
    "    print(\"As duas strings possuem conteúdo diferente\")"
   ]
  },
  {
   "cell_type": "markdown",
   "metadata": {},
   "source": [
    "10.Faça um programa que permita ao usuário digitar o seu nome e em seguida mostre o nome do usuário de trás para frente utilizando somente letras maiúsculas."
   ]
  },
  {
   "cell_type": "code",
   "execution_count": 16,
   "metadata": {},
   "outputs": [
    {
     "name": "stdout",
     "output_type": "stream",
     "text": [
      "Digite seu nome: Teste\n",
      "ETSET\n"
     ]
    }
   ],
   "source": [
    "nome = \"\"\n",
    "inverte = \"\" \n",
    "\n",
    "nome = input(\"Digite seu nome: \")\n",
    "\n",
    "for letra in reversed(nome):\n",
    "    inverte+=letra\n",
    "print(inverte.upper())"
   ]
  },
  {
   "cell_type": "markdown",
   "metadata": {},
   "source": [
    "11.Faça um programa que solicite a data de nascimento (dd/mm/aaaa) do usuário e imprima a data com o nome do mês por extenso."
   ]
  },
  {
   "cell_type": "code",
   "execution_count": 18,
   "metadata": {},
   "outputs": [
    {
     "name": "stdout",
     "output_type": "stream",
     "text": [
      "Informe a data de nascimento (dd/mm/aaaa): 11/11/1994\n"
     ]
    },
    {
     "ename": "ValueError",
     "evalue": "invalid literal for int() with base 10: '11/11/1994'",
     "output_type": "error",
     "traceback": [
      "\u001b[1;31m---------------------------------------------------------------------------\u001b[0m",
      "\u001b[1;31mValueError\u001b[0m                                Traceback (most recent call last)",
      "\u001b[1;32m<ipython-input-18-2b5700bad580>\u001b[0m in \u001b[0;36m<module>\u001b[1;34m()\u001b[0m\n\u001b[1;32m----> 1\u001b[1;33m \u001b[0mdataN\u001b[0m \u001b[1;33m=\u001b[0m \u001b[0mint\u001b[0m\u001b[1;33m(\u001b[0m\u001b[0minput\u001b[0m\u001b[1;33m(\u001b[0m\u001b[1;34m\"Informe a data de nascimento (dd/mm/aaaa): \"\u001b[0m\u001b[1;33m)\u001b[0m\u001b[1;33m)\u001b[0m\u001b[1;33m\u001b[0m\u001b[0m\n\u001b[0m\u001b[0;32m      2\u001b[0m \u001b[0mm\u001b[0m \u001b[1;33m=\u001b[0m \u001b[1;34m\"Janeiro Fevereiro Março Abril Maio Junho Julho Agosto Setembro Outubro Novembro Dezembro\"\u001b[0m\u001b[1;33m\u001b[0m\u001b[0m\n\u001b[0;32m      3\u001b[0m \u001b[0mm2\u001b[0m \u001b[1;33m=\u001b[0m \u001b[0mm\u001b[0m\u001b[1;33m.\u001b[0m\u001b[0msplit\u001b[0m\u001b[1;33m(\u001b[0m\u001b[1;33m)\u001b[0m\u001b[1;33m\u001b[0m\u001b[0m\n\u001b[0;32m      4\u001b[0m \u001b[0mprint\u001b[0m\u001b[1;33m(\u001b[0m\u001b[1;34m\"Voce nasceu em\"\u001b[0m\u001b[1;33m,\u001b[0m\u001b[0mdia\u001b[0m\u001b[1;33m,\u001b[0m\u001b[1;34m\"de\"\u001b[0m\u001b[1;33m,\u001b[0m\u001b[0mm2\u001b[0m\u001b[1;33m[\u001b[0m\u001b[0mmes\u001b[0m\u001b[1;33m-\u001b[0m\u001b[1;36m1\u001b[0m\u001b[1;33m]\u001b[0m\u001b[1;33m,\u001b[0m\u001b[1;34m\" \"\u001b[0m\u001b[1;33m,\u001b[0m\u001b[0mano\u001b[0m\u001b[1;33m)\u001b[0m\u001b[1;33m\u001b[0m\u001b[0m\n",
      "\u001b[1;31mValueError\u001b[0m: invalid literal for int() with base 10: '11/11/1994'"
     ]
    }
   ],
   "source": [
    "dia = int(input(\"Informe o dia de nascimento: \"))\n",
    "mes = int(input(\"Informe o mes de nascimento: \"))\n",
    "ano = int(input(\"Informe o ano de nascimento: \"))\n",
    "m = \"Janeiro Fevereiro Março Abril Maio Junho Julho Agosto Setembro Outubro Novembro Dezembro\"\n",
    "m2 = m.split()\n",
    "\n",
    "print(\"Data de nascimento: %i/ %i/ %i\"%(dia,mes,ano))\n",
    "print(\"Voce nasceu em\",dia,\"de\",m2[mes-1],\" \",ano)"
   ]
  },
  {
   "cell_type": "code",
   "execution_count": null,
   "metadata": {},
   "outputs": [],
   "source": []
  }
 ],
 "metadata": {
  "kernelspec": {
   "display_name": "Python 3",
   "language": "python",
   "name": "python3"
  },
  "language_info": {
   "codemirror_mode": {
    "name": "ipython",
    "version": 3
   },
   "file_extension": ".py",
   "mimetype": "text/x-python",
   "name": "python",
   "nbconvert_exporter": "python",
   "pygments_lexer": "ipython3",
   "version": "3.6.4"
  }
 },
 "nbformat": 4,
 "nbformat_minor": 2
}
